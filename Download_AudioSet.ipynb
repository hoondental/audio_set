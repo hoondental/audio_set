{
 "cells": [
  {
   "cell_type": "code",
   "execution_count": 1,
   "metadata": {},
   "outputs": [],
   "source": [
    "import os\n",
    "import tempfile\n",
    "\n",
    "from downloader import download_youtube, download_youtube_many\n",
    "\n"
   ]
  },
  {
   "cell_type": "code",
   "execution_count": 2,
   "metadata": {},
   "outputs": [],
   "source": [
    "path_eval = 'eval_segments.csv'\n",
    "path_train_balanced = 'balanced_train_segments.csv'\n",
    "path_train_unbalanced = 'unbalanced_train_segments.csv'"
   ]
  },
  {
   "cell_type": "code",
   "execution_count": 3,
   "metadata": {},
   "outputs": [
    {
     "name": "stdout",
     "output_type": "stream",
     "text": [
      "20371\n"
     ]
    }
   ],
   "source": [
    "ids_starts_ends = []\n",
    "\n",
    "with open(path_eval, 'rt') as f:\n",
    "    for i, line in enumerate(f.readlines()):\n",
    "        line = line.strip()\n",
    "        if line.startswith('#'):\n",
    "            continue\n",
    "        try:\n",
    "            items = line.split(',')\n",
    "            id = items[0].strip()\n",
    "            start_sec = float(items[1].strip())\n",
    "            end_sec = float(items[2].strip())\n",
    "            ids_starts_ends.append((id, start_sec, end_sec))\n",
    "        except Exception as ex:\n",
    "            print(line)\n",
    "            continue\n",
    "print(len(ids_starts_ends))"
   ]
  },
  {
   "cell_type": "code",
   "execution_count": 6,
   "metadata": {},
   "outputs": [
    {
     "name": "stderr",
     "output_type": "stream",
     "text": [
      "  0%|          | 0/2 [00:00<?, ?it/s]"
     ]
    },
    {
     "name": "stderr",
     "output_type": "stream",
     "text": [
      "100%|██████████| 2/2 [00:02<00:00,  1.49s/it]                    \n"
     ]
    }
   ],
   "source": [
    "max_count = 120\n",
    "num_workers = 8\n",
    "mono = True\n",
    "video = False\n",
    "audio = True\n",
    "verbose = False\n",
    "suffix = 'wav'\n",
    "\n",
    "results = download_youtube_many(ids_starts_ends=ids_starts_ends, \n",
    "                                video=video, audio=audio, \n",
    "                                audio_mono=mono, suffix=suffix,\n",
    "                                dir_save='./AudioSet/eval/', max_count=max_count, num_workers=num_workers, verbose=verbose)"
   ]
  },
  {
   "cell_type": "code",
   "execution_count": 5,
   "metadata": {},
   "outputs": [
    {
     "data": {
      "text/plain": [
       "2"
      ]
     },
     "execution_count": 5,
     "metadata": {},
     "output_type": "execute_result"
    }
   ],
   "source": [
    "len(results)"
   ]
  },
  {
   "cell_type": "code",
   "execution_count": null,
   "metadata": {},
   "outputs": [],
   "source": []
  }
 ],
 "metadata": {
  "kernelspec": {
   "display_name": "p38",
   "language": "python",
   "name": "python3"
  },
  "language_info": {
   "codemirror_mode": {
    "name": "ipython",
    "version": 3
   },
   "file_extension": ".py",
   "mimetype": "text/x-python",
   "name": "python",
   "nbconvert_exporter": "python",
   "pygments_lexer": "ipython3",
   "version": "3.8.16"
  },
  "orig_nbformat": 4
 },
 "nbformat": 4,
 "nbformat_minor": 2
}
